# Paso 1: Importar bibliotecas
import tkinter as tk
from tkinter import ttk
import pandas as pd  # Para manipulación de datos
from sklearn.model_selection import train_test_split  # Para dividir datos en conjunto de entrenamiento y prueba
from sklearn.ensemble import RandomForestRegressor  # Para usar un modelo de bosque aleatorio
from sklearn.metrics import mean_squared_error  # Para evaluar el rendimiento del modelo
from sklearn.preprocessing import StandardScaler  # Para estandarizar características
from sklearn.pipeline import make_pipeline  # Para construir un pipeline de transformación
from sklearn.metrics import mean_absolute_error
import os  # Para trabajar con funciones relacionadas con el sistema operativo


# Paso 2: Importar datos
# Obtener el directorio de trabajo actual
current_directory = os.getcwd()

# Imprimir el directorio de trabajo
print("Directorio de trabajo actual:", current_directory)

# (aquí puedes utilizar un conjunto de datos existente o crear datos sintéticos)
data = pd.read_csv("d:\FilePrograms\Python\MGE_20240127\\train.csv")
#data_test = pd.read_csv("d:\FilePrograms\Python\MGE_20240127\\test.csv")

# Append de los dos DataFrames
#data = pd.concat([data_train, data_test], ignore_index=True)

# Imprimir el resultado
print(data)

# Paso 3: Ingeniería de características
# Puedes realizar transformaciones, creación de nuevas características, manejo de valores faltantes, etc.
# Aquí un ejemplo sencillo:
# Ingeniería de características
# Manejo de valores faltantes

# Seleccionar solo columnas categóricas
categorical_columns = data.select_dtypes(include='object').columns.tolist()

# Imprimir la lista de nombres de variables categóricas
print(categorical_columns)


# Transformación de variables categóricas
data_encoded = pd.get_dummies(data[categorical_columns], drop_first=True)

# Eliminar las columnas categóricas originales
data_sc = data.drop(categorical_columns, axis=1)
print(data_sc)
# Concatenar las columnas codificadas al conjunto de datos
data_num = pd.concat([data_sc, data_encoded], axis=1)
print(data_num)

# Análisis de correlación
# Calcular la matriz de correlación para variables numéricas
correlation_matrix = data_num.corr()

# Correlación con respecto a la variable objetivo (por ejemplo, 'SalePrice')
correlation_with_target = correlation_matrix['SalePrice']
# Imprimir la correlación con la variable objetivo
#print(correlation_with_target)
# Imprimir la matriz de correlación
#print(correlation_matrix)

# Paso 4: Selección de variables
# Seleccionar las variables relevantes para el modelo
# Analizar y seleccionar características según la correlación con la variable objetivo
selected_features = correlation_matrix['SalePrice'][abs(correlation_matrix['SalePrice']) > 0.5].index
target = 'SalePrice'
X = data_num[selected_features]
y = data_num[target]
print("Data Input")
print(X)
print("Target")
print(y)
